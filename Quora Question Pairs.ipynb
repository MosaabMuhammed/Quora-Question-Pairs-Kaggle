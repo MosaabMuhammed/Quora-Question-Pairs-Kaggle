{
 "cells": [
  {
   "cell_type": "markdown",
   "metadata": {},
   "source": [
    "# Quora Question Pairs"
   ]
  },
  {
   "cell_type": "markdown",
   "metadata": {},
   "source": [
    "### Metrice(s):\n",
    "- Log Loss.\n",
    "- Binary Confusion Matrix."
   ]
  },
  {
   "cell_type": "markdown",
   "metadata": {},
   "source": [
    "## 2.3 Train and Test Construction\n",
    "\n",
    "We build train and test by randomly splitting in the ration of <font color='red'><b>70:30</b></font> or <font color='red'><b>80:20</b></font> whatever we choose as we have sufficient points to work with.\n",
    "**NOTE:** Time-based splittin would be efficient, but since we don't have the timestamp of the questions, we can't use it."
   ]
  },
  {
   "cell_type": "markdown",
   "metadata": {},
   "source": [
    "## 3. Exploratory Data Analysis"
   ]
  },
  {
   "cell_type": "code",
   "execution_count": 1,
   "metadata": {
    "_cell_guid": "b1076dfc-b9ad-4769-8c92-a6c4dae69d19",
    "_uuid": "8f2839f25d086af736a60e9eeb907d3b93b6e0e5"
   },
   "outputs": [
    {
     "data": {
      "text/html": [
       "        <script type=\"text/javascript\">\n",
       "        window.PlotlyConfig = {MathJaxConfig: 'local'};\n",
       "        if (window.MathJax) {MathJax.Hub.Config({SVG: {font: \"STIX-Web\"}});}\n",
       "        if (typeof require !== 'undefined') {\n",
       "        require.undef(\"plotly\");\n",
       "        requirejs.config({\n",
       "            paths: {\n",
       "                'plotly': ['https://cdn.plot.ly/plotly-latest.min']\n",
       "            }\n",
       "        });\n",
       "        require(['plotly'], function(Plotly) {\n",
       "            window._Plotly = Plotly;\n",
       "        });\n",
       "        }\n",
       "        </script>\n",
       "        "
      ]
     },
     "metadata": {},
     "output_type": "display_data"
    }
   ],
   "source": [
    "# This Python 3 environment comes with many helpful analytics libraries installed\n",
    "# It is defined by the kaggle/python docker image: https://github.com/kaggle/docker-python\n",
    "# For example, here's several helpful packages to load in \n",
    "\n",
    "import numpy as np # linear algebra\n",
    "import pandas as pd # data processing, CSV file I/O (e.g. pd.read_csv)\n",
    "import matplotlib.pyplot as plt\n",
    "import seaborn as sns\n",
    "from termcolor import colored\n",
    "from subprocess import check_output # New to the course\n",
    "import plotly.offline as py # New to the Course\n",
    "py.init_notebook_mode(connected=True) # New to the Course\n",
    "import plotly.graph_objs as go # New to the Course\n",
    "import plotly.tools as tls # New to the Course\n",
    "import os\n",
    "import gc # New to the course\n",
    "\n",
    "import re\n",
    "from nltk.corpus import stopwords\n",
    "# import distance\n",
    "from nltk.stem import PorterStemmer\n",
    "from bs4 import BeautifulSoup\n",
    "\n",
    "import warnings\n",
    "warnings.filterwarnings('ignore')"
   ]
  },
  {
   "cell_type": "code",
   "execution_count": 2,
   "metadata": {},
   "outputs": [],
   "source": [
    "%matplotlib inline\n",
    "%precision 2\n",
    "plt.style.use('ggplot')\n",
    "sns.set_style('white')"
   ]
  },
  {
   "cell_type": "code",
   "execution_count": 3,
   "metadata": {
    "_cell_guid": "79c7e3d0-c299-4dcb-8224-4455121ee9b0",
    "_uuid": "d629ff2d2480ee46fbb7e2d37f6b5fab8052498a"
   },
   "outputs": [
    {
     "name": "stdout",
     "output_type": "stream",
     "text": [
      "/kaggle/input/quora-question-pairs/sample_submission.csv\n",
      "/kaggle/input/quora-question-pairs/test.csv\n",
      "/kaggle/input/quora-question-pairs/train.csv\n"
     ]
    }
   ],
   "source": [
    "# Input data files are available in the \"../input/\" directory.\n",
    "# For example, running this (by clicking run or pressing Shift+Enter) will list all files under the input directory\n",
    "import os\n",
    "for dirname, _, filenames in os.walk('/kaggle/input'):\n",
    "    for filename in filenames:\n",
    "        print(os.path.join(dirname, filename))\n",
    "\n",
    "# Any results you write to the current directory are saved as output."
   ]
  },
  {
   "cell_type": "markdown",
   "metadata": {},
   "source": [
    "## 3.1 Reading data and Basic Stats"
   ]
  },
  {
   "cell_type": "code",
   "execution_count": 4,
   "metadata": {},
   "outputs": [
    {
     "name": "stdout",
     "output_type": "stream",
     "text": [
      "Number of data points: 404290\n"
     ]
    }
   ],
   "source": [
    "df = pd.read_csv('/kaggle/input/quora-question-pairs/train.csv')\n",
    "\n",
    "print('Number of data points:', df.shape[0])"
   ]
  },
  {
   "cell_type": "code",
   "execution_count": 5,
   "metadata": {},
   "outputs": [
    {
     "data": {
      "text/html": [
       "<div>\n",
       "<style scoped>\n",
       "    .dataframe tbody tr th:only-of-type {\n",
       "        vertical-align: middle;\n",
       "    }\n",
       "\n",
       "    .dataframe tbody tr th {\n",
       "        vertical-align: top;\n",
       "    }\n",
       "\n",
       "    .dataframe thead th {\n",
       "        text-align: right;\n",
       "    }\n",
       "</style>\n",
       "<table border=\"1\" class=\"dataframe\">\n",
       "  <thead>\n",
       "    <tr style=\"text-align: right;\">\n",
       "      <th></th>\n",
       "      <th>id</th>\n",
       "      <th>qid1</th>\n",
       "      <th>qid2</th>\n",
       "      <th>question1</th>\n",
       "      <th>question2</th>\n",
       "      <th>is_duplicate</th>\n",
       "    </tr>\n",
       "  </thead>\n",
       "  <tbody>\n",
       "    <tr>\n",
       "      <th>249826</th>\n",
       "      <td>249826</td>\n",
       "      <td>78130</td>\n",
       "      <td>363553</td>\n",
       "      <td>What are the benefits of meditation? How do yo...</td>\n",
       "      <td>What are the five benefits of meditation?</td>\n",
       "      <td>1</td>\n",
       "    </tr>\n",
       "    <tr>\n",
       "      <th>239831</th>\n",
       "      <td>239831</td>\n",
       "      <td>351509</td>\n",
       "      <td>351510</td>\n",
       "      <td>Hike with 8 years of experience?</td>\n",
       "      <td>How can I keep my mind free by distraction?</td>\n",
       "      <td>0</td>\n",
       "    </tr>\n",
       "    <tr>\n",
       "      <th>202710</th>\n",
       "      <td>202710</td>\n",
       "      <td>836</td>\n",
       "      <td>99465</td>\n",
       "      <td>Why can't I stop watching porn?</td>\n",
       "      <td>Why should one stop watching porn?</td>\n",
       "      <td>0</td>\n",
       "    </tr>\n",
       "    <tr>\n",
       "      <th>242544</th>\n",
       "      <td>242544</td>\n",
       "      <td>354768</td>\n",
       "      <td>354769</td>\n",
       "      <td>Why does Salman Khan act same in his every movie?</td>\n",
       "      <td>Why does Salman Khan dance like a monkey in hi...</td>\n",
       "      <td>0</td>\n",
       "    </tr>\n",
       "    <tr>\n",
       "      <th>347351</th>\n",
       "      <td>347351</td>\n",
       "      <td>409039</td>\n",
       "      <td>119910</td>\n",
       "      <td>How can I become A gigolo?</td>\n",
       "      <td>How can one become a gigolo?</td>\n",
       "      <td>1</td>\n",
       "    </tr>\n",
       "  </tbody>\n",
       "</table>\n",
       "</div>"
      ],
      "text/plain": [
       "            id    qid1    qid2  \\\n",
       "249826  249826   78130  363553   \n",
       "239831  239831  351509  351510   \n",
       "202710  202710     836   99465   \n",
       "242544  242544  354768  354769   \n",
       "347351  347351  409039  119910   \n",
       "\n",
       "                                                question1  \\\n",
       "249826  What are the benefits of meditation? How do yo...   \n",
       "239831                   Hike with 8 years of experience?   \n",
       "202710                    Why can't I stop watching porn?   \n",
       "242544  Why does Salman Khan act same in his every movie?   \n",
       "347351                         How can I become A gigolo?   \n",
       "\n",
       "                                                question2  is_duplicate  \n",
       "249826          What are the five benefits of meditation?             1  \n",
       "239831        How can I keep my mind free by distraction?             0  \n",
       "202710                 Why should one stop watching porn?             0  \n",
       "242544  Why does Salman Khan dance like a monkey in hi...             0  \n",
       "347351                       How can one become a gigolo?             1  "
      ]
     },
     "execution_count": 5,
     "metadata": {},
     "output_type": "execute_result"
    }
   ],
   "source": [
    "df.sample(5)"
   ]
  },
  {
   "cell_type": "code",
   "execution_count": 6,
   "metadata": {},
   "outputs": [
    {
     "name": "stdout",
     "output_type": "stream",
     "text": [
      "<class 'pandas.core.frame.DataFrame'>\n",
      "RangeIndex: 404290 entries, 0 to 404289\n",
      "Data columns (total 6 columns):\n",
      "id              404290 non-null int64\n",
      "qid1            404290 non-null int64\n",
      "qid2            404290 non-null int64\n",
      "question1       404289 non-null object\n",
      "question2       404288 non-null object\n",
      "is_duplicate    404290 non-null int64\n",
      "dtypes: int64(4), object(2)\n",
      "memory usage: 18.5+ MB\n"
     ]
    }
   ],
   "source": [
    "df.info()"
   ]
  },
  {
   "cell_type": "markdown",
   "metadata": {},
   "source": [
    "#### Observation:\n",
    "- we can see from `info`, that `question1` and `question2` columns have some null values, but it's not that much."
   ]
  },
  {
   "cell_type": "markdown",
   "metadata": {},
   "source": [
    "We are given a minimal number of data fields here, consisting of:\n",
    "- id: Looks like a simple rowID.\n",
    "- qid{1, 2}: The unique ID of each question in the pair.\n",
    "- question{1, 2}: The actual textual contents of the questions.\n",
    "- is_duplicate: The label that we are trying to predict - whether the two questions are duplicated of each other."
   ]
  },
  {
   "cell_type": "markdown",
   "metadata": {},
   "source": [
    "## 3.2.1 Distribution of data points among output classes\n",
    "Number of duplicate(similar) and non-duplicate(non-similar) questions."
   ]
  },
  {
   "cell_type": "code",
   "execution_count": 7,
   "metadata": {},
   "outputs": [],
   "source": [
    "def show_annotation(colName):\n",
    "    # Add Anootations\n",
    "    n_points = df.shape[0]\n",
    "    duplicate_count = df[colName].value_counts()\n",
    "    locs, labels = plt.xticks() # Get the current tick locations and labels\n",
    "\n",
    "    # Loop for through each pair of locations and labels.\n",
    "    for loc, label in zip(locs, labels):\n",
    "        count = duplicate_count[int(label.get_text())]\n",
    "        text  = '{:.2f}%'.format(100*count/n_points)\n",
    "        plt.text(loc, count-50, text, ha='center', color='darkblue')  "
   ]
  },
  {
   "cell_type": "code",
   "execution_count": 8,
   "metadata": {},
   "outputs": [
    {
     "data": {
      "image/png": "[encoded data removed]",
      "text/plain": [
       "<Figure size 432x288 with 1 Axes>"
      ]
     },
     "metadata": {},
     "output_type": "display_data"
    }
   ],
   "source": [
    "base_color = sns.color_palette()[1]\n",
    "sns.countplot(data=df, x='is_duplicate', color=base_color);\n",
    "\n",
    "show_annotation('is_duplicate')"
   ]
  },
  {
   "cell_type": "code",
   "execution_count": 9,
   "metadata": {},
   "outputs": [],
   "source": [
    "def bg(value, color='blue'):\n",
    "    return colored(value, color, attrs=['reverse', 'blink'])"
   ]
  },
  {
   "cell_type": "code",
   "execution_count": 10,
   "metadata": {},
   "outputs": [
    {
     "name": "stdout",
     "output_type": "stream",
     "text": [
      "~> Total number of question pairs for training:\t \u001b[5m\u001b[7m\u001b[34m404290\u001b[0m\n"
     ]
    }
   ],
   "source": [
    "totalRows = df.shape[0]\n",
    "print('~> Total number of question pairs for training:\\t', colored(totalRows, 'blue', attrs=['reverse', 'blink']))"
   ]
  },
  {
   "cell_type": "code",
   "execution_count": 11,
   "metadata": {},
   "outputs": [
    {
     "name": "stdout",
     "output_type": "stream",
     "text": [
      "~> Percentage of Similar Questions (is_duplicate = 1): 36.92%\n",
      "~> Percentage of Non-Similar Questions (is_duplicate = 0): 63.08%\n"
     ]
    }
   ],
   "source": [
    "numSimilarQuestions    = len(df[df['is_duplicate']==1])\n",
    "numNotSimilarQuestions = len(df[df['is_duplicate']==0])\n",
    "\n",
    "print('~> Percentage of Similar Questions (is_duplicate = 1): {:.2f}%'.format(((numSimilarQuestions/totalRows)*100)))\n",
    "print('~> Percentage of Non-Similar Questions (is_duplicate = 0): {:.2f}%'.format(((numNotSimilarQuestions/totalRows)*100)))"
   ]
  },
  {
   "cell_type": "markdown",
   "metadata": {},
   "source": [
    "### 3.2.2 Number of unique questions"
   ]
  },
  {
   "cell_type": "code",
   "execution_count": 12,
   "metadata": {},
   "outputs": [
    {
     "name": "stdout",
     "output_type": "stream",
     "text": [
      "~> Number of Unique questions: \u001b[5m\u001b[7m\u001b[34m537933\u001b[0m\n",
      "~> Number of unique questions that appear more than one time: \u001b[5m\u001b[7m\u001b[34m111780\u001b[0m\n",
      "~> Max number of times a single questions is repeated: \u001b[5m\u001b[7m\u001b[34m157\u001b[0m\n"
     ]
    }
   ],
   "source": [
    "# Unique questions.\n",
    "unique_questions = pd.Series(data=list(set(df['qid1']) | set(df['qid2'])))\n",
    "n_unique_questions = unique_questions.count()\n",
    "print('~> Number of Unique questions:', bg(n_unique_questions))\n",
    "\n",
    "# Number of questions that appeared more than one.\n",
    "qids = pd.Series(list(df['qid1']) + list(df['qid2']))\n",
    "questions_appear_more_one = (qids.value_counts() > 1)\n",
    "n_questions_appear_more_one = np.sum(questions_appear_more_one)\n",
    "print('~> Number of unique questions that appear more than one time:', bg(n_questions_appear_more_one))\n",
    "\n",
    "# Max number of times for a question that appeared.\n",
    "max_n_times = max(qids.value_counts())\n",
    "print('~> Max number of times a single questions is repeated:', bg(max_n_times))"
   ]
  },
  {
   "cell_type": "code",
   "execution_count": 13,
   "metadata": {},
   "outputs": [],
   "source": [
    "# x = ['Unique_Question', 'Repeated_Questions']\n",
    "# y = [unique_questions, questions_appear_more_one]\n",
    "\n",
    "# plt.figure(figsize=(10, 6))\n",
    "# plt.title('Plot representing unique and repeated questions')\n",
    "# sns.barplot(x, y)\n",
    "# plt.show()"
   ]
  },
  {
   "cell_type": "markdown",
   "metadata": {},
   "source": [
    "## 3.2.3 Checking for Duplicates"
   ]
  },
  {
   "cell_type": "code",
   "execution_count": 14,
   "metadata": {},
   "outputs": [
    {
     "name": "stdout",
     "output_type": "stream",
     "text": [
      "~> Number of duplicated pairs: \u001b[5m\u001b[7m\u001b[34m0\u001b[0m\n"
     ]
    }
   ],
   "source": [
    "# Checking whether there are any repeated pair of questions\n",
    "n_pair_duplicates = df.duplicated().sum()\n",
    "print('~> Number of duplicated pairs:', bg(n_pair_duplicates))"
   ]
  },
  {
   "cell_type": "markdown",
   "metadata": {},
   "source": [
    "## 3.2.4 Number of Occurrences of each question"
   ]
  },
  {
   "cell_type": "code",
   "execution_count": 15,
   "metadata": {},
   "outputs": [
    {
     "name": "stdout",
     "output_type": "stream",
     "text": [
      "The question that has been questioned the most is: \u001b[5m\u001b[7m\u001b[34mWhat are the best ways to lose weight?\u001b[0m\n"
     ]
    },
    {
     "data": {
      "image/png": "[encoded data removed]",
      "text/plain": [
       "<Figure size 1440x720 with 1 Axes>"
      ]
     },
     "metadata": {},
     "output_type": "display_data"
    }
   ],
   "source": [
    "plt.figure(figsize=(20, 10))\n",
    "plt.hist(qids.value_counts(), bins=160, color=base_color)\n",
    "plt.yscale('log', nonposy='clip')\n",
    "plt.title('Log-Histogram of question appearance counts')\n",
    "plt.xlabel('Number of Occurences of question')\n",
    "plt.ylabel('Number of Questions');\n",
    "print(\"The question that has been questioned the most is:\", bg(df[df['qid1']==(2559)]['question1'].iloc[0]));"
   ]
  },
  {
   "cell_type": "markdown",
   "metadata": {},
   "source": [
    "## 3.2.5 Checking for NULL values"
   ]
  },
  {
   "cell_type": "code",
   "execution_count": 16,
   "metadata": {},
   "outputs": [
    {
     "data": {
      "text/plain": [
       "id              0\n",
       "qid1            0\n",
       "qid2            0\n",
       "question1       1\n",
       "question2       2\n",
       "is_duplicate    0\n",
       "dtype: int64"
      ]
     },
     "execution_count": 16,
     "metadata": {},
     "output_type": "execute_result"
    }
   ],
   "source": [
    "df.isna().sum()"
   ]
  },
  {
   "cell_type": "code",
   "execution_count": 17,
   "metadata": {},
   "outputs": [
    {
     "data": {
      "text/html": [
       "<div>\n",
       "<style scoped>\n",
       "    .dataframe tbody tr th:only-of-type {\n",
       "        vertical-align: middle;\n",
       "    }\n",
       "\n",
       "    .dataframe tbody tr th {\n",
       "        vertical-align: top;\n",
       "    }\n",
       "\n",
       "    .dataframe thead th {\n",
       "        text-align: right;\n",
       "    }\n",
       "</style>\n",
       "<table border=\"1\" class=\"dataframe\">\n",
       "  <thead>\n",
       "    <tr style=\"text-align: right;\">\n",
       "      <th></th>\n",
       "      <th>id</th>\n",
       "      <th>qid1</th>\n",
       "      <th>qid2</th>\n",
       "      <th>question1</th>\n",
       "      <th>question2</th>\n",
       "      <th>is_duplicate</th>\n",
       "    </tr>\n",
       "  </thead>\n",
       "  <tbody>\n",
       "    <tr>\n",
       "      <th>105780</th>\n",
       "      <td>105780</td>\n",
       "      <td>174363</td>\n",
       "      <td>174364</td>\n",
       "      <td>How can I develop android app?</td>\n",
       "      <td>NaN</td>\n",
       "      <td>0</td>\n",
       "    </tr>\n",
       "    <tr>\n",
       "      <th>201841</th>\n",
       "      <td>201841</td>\n",
       "      <td>303951</td>\n",
       "      <td>174364</td>\n",
       "      <td>How can I create an Android app?</td>\n",
       "      <td>NaN</td>\n",
       "      <td>0</td>\n",
       "    </tr>\n",
       "    <tr>\n",
       "      <th>363362</th>\n",
       "      <td>363362</td>\n",
       "      <td>493340</td>\n",
       "      <td>493341</td>\n",
       "      <td>NaN</td>\n",
       "      <td>My Chinese name is Haichao Yu. What English na...</td>\n",
       "      <td>0</td>\n",
       "    </tr>\n",
       "  </tbody>\n",
       "</table>\n",
       "</div>"
      ],
      "text/plain": [
       "            id    qid1    qid2                         question1  \\\n",
       "105780  105780  174363  174364    How can I develop android app?   \n",
       "201841  201841  303951  174364  How can I create an Android app?   \n",
       "363362  363362  493340  493341                               NaN   \n",
       "\n",
       "                                                question2  is_duplicate  \n",
       "105780                                                NaN             0  \n",
       "201841                                                NaN             0  \n",
       "363362  My Chinese name is Haichao Yu. What English na...             0  "
      ]
     },
     "execution_count": 17,
     "metadata": {},
     "output_type": "execute_result"
    }
   ],
   "source": [
    "# Checking Null values\n",
    "df[(df['question1'].isnull()) | (df['question2'].isnull())] "
   ]
  },
  {
   "cell_type": "code",
   "execution_count": 18,
   "metadata": {},
   "outputs": [
    {
     "data": {
      "text/html": [
       "<div>\n",
       "<style scoped>\n",
       "    .dataframe tbody tr th:only-of-type {\n",
       "        vertical-align: middle;\n",
       "    }\n",
       "\n",
       "    .dataframe tbody tr th {\n",
       "        vertical-align: top;\n",
       "    }\n",
       "\n",
       "    .dataframe thead th {\n",
       "        text-align: right;\n",
       "    }\n",
       "</style>\n",
       "<table border=\"1\" class=\"dataframe\">\n",
       "  <thead>\n",
       "    <tr style=\"text-align: right;\">\n",
       "      <th></th>\n",
       "      <th>id</th>\n",
       "      <th>qid1</th>\n",
       "      <th>qid2</th>\n",
       "      <th>question1</th>\n",
       "      <th>question2</th>\n",
       "      <th>is_duplicate</th>\n",
       "    </tr>\n",
       "  </thead>\n",
       "  <tbody>\n",
       "  </tbody>\n",
       "</table>\n",
       "</div>"
      ],
      "text/plain": [
       "Empty DataFrame\n",
       "Columns: [id, qid1, qid2, question1, question2, is_duplicate]\n",
       "Index: []"
      ]
     },
     "execution_count": 18,
     "metadata": {},
     "output_type": "execute_result"
    }
   ],
   "source": [
    "df = df.fillna('')\n",
    "df[(df['question1'].isnull()) | (df['question2'].isnull())]"
   ]
  },
  {
   "cell_type": "code",
   "execution_count": null,
   "metadata": {},
   "outputs": [],
   "source": []
  }
 ],
 "metadata": {
  "kernelspec": {
   "display_name": "Python 3",
   "language": "python",
   "name": "python3"
  },
  "language_info": {
   "codemirror_mode": {
    "name": "ipython",
    "version": 3
   },
   "file_extension": ".py",
   "mimetype": "text/x-python",
   "name": "python",
   "nbconvert_exporter": "python",
   "pygments_lexer": "ipython3",
   "version": "3.6.6"
  }
 },
 "nbformat": 4,
 "nbformat_minor": 1
}
